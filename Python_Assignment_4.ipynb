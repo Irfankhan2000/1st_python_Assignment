{
 "cells": [
  {
   "cell_type": "markdown",
   "metadata": {},
   "source": [
    "###  1.Use a dictionary to store information about a person you know. Store their first name, last name, age, and the city in which they live. You should have keys such as first_name, last_name, age, and city. Print each piece of information stored in your dictionary. Add a new key value pair about qualification then update the qualification value to high academic level then delete it."
   ]
  },
  {
   "cell_type": "code",
   "execution_count": 23,
   "metadata": {},
   "outputs": [
    {
     "name": "stdout",
     "output_type": "stream",
     "text": [
      "Enter your First name :irfan\n",
      "Enter your last name :khan\n",
      "Enter your age  :21\n",
      "Enter your city :karachi\n",
      "\n",
      "\n",
      "The First_name with  irfan\n",
      "The last_name with  khan\n",
      "The Age with  21\n",
      "The City with  karachi\n"
     ]
    }
   ],
   "source": [
    "#A.\n",
    "#Use a dictionary to store information about a person you know. Store their first name, last name, age, and the city in\n",
    "#which they live. You should have keys such as first_name, last_name, age, and city. Print each piece of information stored \n",
    "#in your dictionary\n",
    "\n",
    "fi_name=input(\"Enter your First name :\")\n",
    "la_name=input(\"Enter your last name :\")\n",
    "age=int(input(\"Enter your age  :\"))\n",
    "city=input(\"Enter your city :\")\n",
    "print(\"\\n\")\n",
    "info={'First_name':fi_name,'last_name':la_name,'Age':age,'City':city}\n",
    "for key,value in info.items():\n",
    "    print(f\"The :{ key} is  :{value}\")"
   ]
  },
  {
   "cell_type": "code",
   "execution_count": 22,
   "metadata": {},
   "outputs": [
    {
     "name": "stdout",
     "output_type": "stream",
     "text": [
      "Enter your Qualification : irfan\n",
      "{'First_name': 'Irfan', 'last_name': 'khan', 'Age': 21, 'City': 'karachi', 'Qualification': 'irfan'}\n"
     ]
    }
   ],
   "source": [
    "#B.\n",
    "#Add a new key value pair about qualification.\n",
    "\n",
    "quali=input('Enter your Qualification : ')\n",
    "info['Qualification']=quali\n",
    "print(info)"
   ]
  },
  {
   "cell_type": "code",
   "execution_count": 15,
   "metadata": {},
   "outputs": [
    {
     "name": "stdout",
     "output_type": "stream",
     "text": [
      "Enter your updated qualification : Graduate\n",
      "{'First_name': 'irfan', 'last_name': 'khan', 'Age': 21, 'City': 'karachi', 'Qualification': 'Graduate'}\n"
     ]
    }
   ],
   "source": [
    "#C.\n",
    "#Then update the qualification value to high academic level .\n",
    "\n",
    "updat_quali=input(\"Enter your updated qualification : \")\n",
    "info['Qualification']=updat_quali\n",
    "print(info)"
   ]
  },
  {
   "cell_type": "code",
   "execution_count": 16,
   "metadata": {},
   "outputs": [
    {
     "name": "stdout",
     "output_type": "stream",
     "text": [
      "{'First_name': 'irfan', 'last_name': 'khan', 'Age': 21, 'City': 'karachi'}\n"
     ]
    }
   ],
   "source": [
    "#D\n",
    "#Then delete it.\n",
    "\n",
    "del info['Qualification']\n",
    "print(info)"
   ]
  },
  {
   "cell_type": "markdown",
   "metadata": {},
   "source": [
    " ### 2. Make a dictionary called cities. Use the names of three cities as keys in your dictionary. Create a dictionary of information about each city and include the country that the city is in, its approximate population, and one fact about that city. The keys for each city’s dictionary should be something like country, population, and fact. Print the name of each city and all of the information you have stored about it."
   ]
  },
  {
   "cell_type": "code",
   "execution_count": 7,
   "metadata": {},
   "outputs": [
    {
     "name": "stdout",
     "output_type": "stream",
     "text": [
      "Enter cities like that : karachi , Istanbul , New-York\n",
      "Enter city name which you want to know about :New-York\n",
      "\n",
      "\n",
      "Country is  :USA\n",
      "Population is  :19491339\n",
      "Fact is  :New York City is the largest city in the United States.\n"
     ]
    }
   ],
   "source": [
    "import pandas as pd\n",
    "\n",
    "cities={\n",
    "    'karachi':{\n",
    "        'Country':'Pakistan',\n",
    "        'Population':15741406,\n",
    "        'Fact' :\"The world's largest deep sea port in size.\"\n",
    "    \n",
    "},\n",
    "    'Istanbul':{\n",
    "        'Country':'Turkey',\n",
    "        'Population':14967667,\n",
    "        'Fact':\"Istanbul is packed with cultural heritage.\"\n",
    "\n",
    "},'New-York':{\n",
    "        'Country':'USA',\n",
    "        'Population': 19491339,\n",
    "        'Fact':'New York City is the largest city in the United States.'   \n",
    "}\n",
    "}\n",
    "\n",
    "print(\"Enter cities like that :\",\"karachi ,\",\"Istanbul ,\",\"New-York\")\n",
    "city=input(\"Enter city name which you want to know about :\")\n",
    "print('\\n')\n",
    "for key,value in cities[city].items():\n",
    "    print(f\"{ key} is  :{value}\")\n",
    "    \n",
    "#we can also used these methods for displaying     \n",
    "#print(cities[city].items())\n",
    "#print(pd.Series(cities[city]))\n"
   ]
  },
  {
   "cell_type": "markdown",
   "metadata": {},
   "source": [
    "### 3.A movie theater charges different ticket prices depending on a person’s age. If a person is under the age of 3, the ticket is free; if they are between 3 and 12, the ticket is $10; and if they are over age 12, the ticket is $15. Write a loop in which you ask users their age, and then tell them the cost of their movie ticket."
   ]
  },
  {
   "cell_type": "code",
   "execution_count": 1,
   "metadata": {},
   "outputs": [
    {
     "name": "stdout",
     "output_type": "stream",
     "text": [
      "Enter the Tickets according to your Movie theater  capacity \n",
      "How many Tickets you want to genertae :3\n",
      "Please Enter your name :irfan\n",
      "Please Enter your age : 12\n",
      "Dear irfan  your Ticket is 10$ ,Enjoy !\n",
      "Please Enter your name :khan\n",
      "Please Enter your age : 10\n",
      "Dear khan  your Ticket is 10$ ,Enjoy !\n"
     ]
    }
   ],
   "source": [
    "print(\"Enter the Tickets according to your Movie theater  capacity \")\n",
    "n=int(input('How many Tickets you want to genertae :'))\n",
    "for i in range(0,n):\n",
    "    p_name=input(\"Please Enter your name :\")\n",
    "    p_age=int(input(\"Please Enter your age : \"))\n",
    "    if(p_age<=3):\n",
    "        print(f\"Dear {p_name}  your Ticket is Free ,Enjoy !\")\n",
    "    elif(p_age<=12):\n",
    "        print(f\"Dear {p_name}  your Ticket is 10$ ,Enjoy !\")\n",
    "    elif(p_age<=15):\n",
    "        print(f\"Dear {p_name}  your Ticket is 15$ ,Enjoy !\")\n",
    "        \n",
    "\n"
   ]
  },
  {
   "cell_type": "markdown",
   "metadata": {},
   "source": [
    "### 4.Write a function called favorite_book() that accepts one parameter, title. The function should print a message, such as One of my favorite books is Alice in Wonderland. Call the function, making sure to include a book title as an argument in the function call."
   ]
  },
  {
   "cell_type": "code",
   "execution_count": 2,
   "metadata": {},
   "outputs": [
    {
     "name": "stdout",
     "output_type": "stream",
     "text": [
      "Chemistry is my favourite book in Wonderland \n"
     ]
    }
   ],
   "source": [
    "def favorite_book(title):\n",
    "    print(title+\" is my favourite book in Wonderland \")\n",
    "    \n",
    "favorite_book('Chemistry')    "
   ]
  },
  {
   "cell_type": "markdown",
   "metadata": {},
   "source": [
    "### 5.Guess the number game.Write a program which randomly generate a number between 1 to 30 and ask the user in input field to guess the correct number. Give three chances to user guess the number and also give hint to user if hidden number is greater or smaller than the number he given to input field.\n",
    "."
   ]
  },
  {
   "cell_type": "code",
   "execution_count": 4,
   "metadata": {},
   "outputs": [
    {
     "name": "stdout",
     "output_type": "stream",
     "text": [
      "*****************Guess the number Game******************** \n",
      " \n",
      "You have only three chances \n",
      " \n",
      "Guess the number from 1 to 30 only \n",
      "Guess a number : 3\n",
      "Your number is mismatched\n",
      " \n",
      "Guess a number : 12\n",
      "Your number is mismatched\n",
      " \n",
      "Guess a number : 23\n",
      "Your number is mismatched\n",
      " \n",
      "***********************************Game Over*****************************\n",
      "\n",
      ".............................Good luck for next time...................... \n"
     ]
    }
   ],
   "source": [
    "import numpy as np\n",
    "import random\n",
    "print(\"*****************Guess the number Game******************** \\n \")\n",
    "\n",
    "print(\"You have only three chances \\n \")\n",
    "print(\"Guess the number from 1 to 30 only \")\n",
    "for j in range(0,3):\n",
    "    number=random.randrange(0,30)\n",
    "    g_num=int(input((\"Guess a number : \")))\n",
    "    if g_num==number:\n",
    "        print(\"Your number is matched\\n \")\n",
    "        break\n",
    "    else:\n",
    "        print(\"Your number is mismatched\\n \")\n",
    "        \n",
    "print(\"***********************************Game Over*****************************\\n\") \n",
    "print(\".............................Good luck for next time...................... \")\n"
   ]
  },
  {
   "cell_type": "code",
   "execution_count": null,
   "metadata": {},
   "outputs": [],
   "source": []
  },
  {
   "cell_type": "code",
   "execution_count": null,
   "metadata": {},
   "outputs": [],
   "source": []
  }
 ],
 "metadata": {
  "kernelspec": {
   "display_name": "Python 3",
   "language": "python",
   "name": "python3"
  },
  "language_info": {
   "codemirror_mode": {
    "name": "ipython",
    "version": 3
   },
   "file_extension": ".py",
   "mimetype": "text/x-python",
   "name": "python",
   "nbconvert_exporter": "python",
   "pygments_lexer": "ipython3",
   "version": "3.7.1"
  }
 },
 "nbformat": 4,
 "nbformat_minor": 2
}
