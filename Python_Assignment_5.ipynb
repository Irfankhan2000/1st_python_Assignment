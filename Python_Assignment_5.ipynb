{
 "cells": [
  {
   "cell_type": "markdown",
   "metadata": {},
   "source": [
    "## 1. Write a Python function to calculate the factorial of a number (a non-negative integer). The function accepts the number as an argument."
   ]
  },
  {
   "cell_type": "code",
   "execution_count": 17,
   "metadata": {},
   "outputs": [
    {
     "name": "stdout",
     "output_type": "stream",
     "text": [
      "Enter a number for factorial :5\n",
      "Factorial of 5 is 120\n"
     ]
    }
   ],
   "source": [
    "n=int(input(\"Enter a number for factorial :\"))\n",
    "def factorial(n):\n",
    "    f=n\n",
    "    if n<0:\n",
    "        print(\"factorial does not exist\")\n",
    "    elif n==0:\n",
    "        print(\"factirial of 0 is 1;\")\n",
    "    else:\n",
    "        for i in range(1,f):\n",
    "            n=n*i\n",
    "        print(f\"Factorial of {f} is {n}\")\n",
    "        \n",
    "   \n",
    "\n",
    "factorial(n)"
   ]
  },
  {
   "cell_type": "markdown",
   "metadata": {},
   "source": [
    "## 2.Write a Python function that accepts a string and calculate the number of upper case letters and lower case letters."
   ]
  },
  {
   "cell_type": "code",
   "execution_count": 54,
   "metadata": {},
   "outputs": [
    {
     "name": "stdout",
     "output_type": "stream",
     "text": [
      "Enter a string : Irfasn khan pathan\n",
      "The capital words in the given strings are :1\n",
      "The Lower words in the given strings are :15\n"
     ]
    }
   ],
   "source": [
    "s=input(\"Enter a string : \")\n",
    "#s=\"irfan KAN Pathan\"\n",
    "def case(s):\n",
    "    lower=0\n",
    "    upper=0\n",
    "    for i in s:\n",
    "        if i.isupper()==True:\n",
    "            upper+=1\n",
    "        elif i.islower()==True:\n",
    "            lower+=1\n",
    "\n",
    "\n",
    "    print(\"The capital words in the given strings are :\"+str(upper))\n",
    "    print(\"The Lower words in the given strings are :\"+str(lower))   \n",
    "case(s)"
   ]
  },
  {
   "cell_type": "markdown",
   "metadata": {},
   "source": [
    "## 3. Write a Python function to print the even numbers from a given list."
   ]
  },
  {
   "cell_type": "code",
   "execution_count": 60,
   "metadata": {},
   "outputs": [
    {
     "name": "stdout",
     "output_type": "stream",
     "text": [
      "Even numbers are :4\n",
      "Even numbers are :6\n",
      "Even numbers are :8\n",
      "Even numbers are :12\n",
      "Even numbers are :24\n",
      "Even numbers are :56\n",
      "total even numbers in the list is :6\n"
     ]
    }
   ],
   "source": [
    "num_list=[1,3,4,5,6,8,12,15,24,23,56,77]\n",
    "def even():\n",
    "    count=0\n",
    "    for i in num_list:\n",
    "        if i%2==0:\n",
    "            print(\"Even numbers are :\"+str(i))\n",
    "            count+=1\n",
    "    print(\"total even numbers in the list is :\"+str(count))\n",
    "            \n",
    "\n",
    "            \n",
    "even()            "
   ]
  },
  {
   "cell_type": "markdown",
   "metadata": {},
   "source": [
    "## 4.Write a Python function that checks whether a passed string is palindrome or not.Note: A palindrome is a word, phrase, or sequence that reads the same backward as forward, e.g., madam"
   ]
  },
  {
   "cell_type": "code",
   "execution_count": 66,
   "metadata": {},
   "outputs": [
    {
     "name": "stdout",
     "output_type": "stream",
     "text": [
      "Enter a string check for palindrome :mam\n",
      "Yes palndrome\n"
     ]
    }
   ],
   "source": [
    "strr=input(\"Enter a string check for palindrome :\")\n",
    "def rev_palin():\n",
    "    rev_str=strr[::-1]\n",
    "    if strr==rev_str:\n",
    "        print(\"Yes palindrome\")\n",
    "    else:\n",
    "        print(\"No its not palindrome\")\n",
    "rev_palin()\n",
    "        "
   ]
  },
  {
   "cell_type": "markdown",
   "metadata": {},
   "source": [
    "## 5.Write a Python function that takes a number as a parameter and check the number is prime or not."
   ]
  },
  {
   "cell_type": "code",
   "execution_count": 77,
   "metadata": {},
   "outputs": [
    {
     "name": "stdout",
     "output_type": "stream",
     "text": [
      "Enter a no :41\n",
      "Prime no\n"
     ]
    }
   ],
   "source": [
    "num=int(input(\"Enter a no :\"))\n",
    "\n",
    "def prime(num):\n",
    "    if num>1:\n",
    "        for i in range(2,num//2):\n",
    "            if num%i==0:\n",
    "                print(\"Not prime \")\n",
    "                break\n",
    "         \n",
    "        print(\"Prime no\")\n",
    "    else:\n",
    "        print(\"Not prime\")\n",
    "prime(num)"
   ]
  },
  {
   "cell_type": "markdown",
   "metadata": {},
   "source": [
    "### 6.Suppose a customer is shopping in a market and you need to print all the items which user bought from market.Write a function which accepts the multiple arguments of user shopping list and print all the items which user bought from market.(Hint: Arbitrary Argument concept can make this task ease) "
   ]
  },
  {
   "cell_type": "code",
   "execution_count": 78,
   "metadata": {},
   "outputs": [
    {
     "name": "stdout",
     "output_type": "stream",
     "text": [
      "\n",
      "Enter the item you bought from market \n",
      "If you leave enter'quit': sabze\n",
      "\n",
      "Enter the item you bought from market \n",
      "If you leave enter'quit': pasta\n",
      "\n",
      "Enter the item you bought from market \n",
      "If you leave enter'quit': quit\n",
      "\n",
      "--------- Shopping List --------\n",
      "You bought:  ['sabze', 'pasta']\n"
     ]
    }
   ],
   "source": [
    "def customer_shopping(*shopping_list):\n",
    "    print(\"\\n--------- Shopping List --------\")    \n",
    "    for element in shopping_list:\n",
    "        print(\"You bought: \",element)\n",
    "\n",
    "shopping_list = []\n",
    "\n",
    "while True:\n",
    "    items = input(\"\\nEnter the item you bought from market \\nIf you leave enter'quit': \")\n",
    "    if items == 'quit':\n",
    "        break\n",
    "    shopping_list.append(items)\n",
    "\n",
    "customer_shopping(shopping_list)"
   ]
  },
  {
   "cell_type": "code",
   "execution_count": null,
   "metadata": {},
   "outputs": [],
   "source": []
  }
 ],
 "metadata": {
  "kernelspec": {
   "display_name": "Python 3",
   "language": "python",
   "name": "python3"
  },
  "language_info": {
   "codemirror_mode": {
    "name": "ipython",
    "version": 3
   },
   "file_extension": ".py",
   "mimetype": "text/x-python",
   "name": "python",
   "nbconvert_exporter": "python",
   "pygments_lexer": "ipython3",
   "version": "3.7.1"
  }
 },
 "nbformat": 4,
 "nbformat_minor": 2
}
