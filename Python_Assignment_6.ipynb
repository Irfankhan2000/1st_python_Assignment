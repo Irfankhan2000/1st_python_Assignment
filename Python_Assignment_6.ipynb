{
 "cells": [
  {
   "cell_type": "markdown",
   "metadata": {},
   "source": [
    "## Question 1:\n",
    "Define Object Oriented Programming Language?"
   ]
  },
  {
   "cell_type": "markdown",
   "metadata": {},
   "source": [
    "\n",
    "Ans: Object-oriented programming (OOP) is a programming language model in which programs are organized around data, or objects , rather than functions and logic. An object can be defined as a data field that has unique attributes and behaviour.\n"
   ]
  },
  {
   "cell_type": "markdown",
   "metadata": {},
   "source": [
    "## Question 2:\n",
    "List down the Benefits of OOP?"
   ]
  },
  {
   "cell_type": "markdown",
   "metadata": {},
   "source": [
    "\n",
    "1.\tOOP provides Modularity in which the problem becomes easy .\n",
    "2.\tFlexibility though polymorphism  .\n",
    "3.\tObject Reuse of code through inheritance write once execute every where .\n",
    "4.\toriented provide effective way of problem solving \n",
    "5.\tOOP provides security and privacy .\n"
   ]
  },
  {
   "cell_type": "markdown",
   "metadata": {},
   "source": [
    "## Question 3:\n",
    "Differentiate between function and method?"
   ]
  },
  {
   "cell_type": "markdown",
   "metadata": {},
   "source": [
    "Function :\n",
    "Function is a piece of code that is called by name. It can be passed data to operate on (i.e. the parameters) and can optionally return data (the return value). All data that is passed to a function is explicitly passed\n",
    "Methods :\n",
    "A method is a piece of code that is called by a name that is associated with an object. In most respects it is identical to a function except for two key differences:\n",
    "1.\tA method is implicitly passed the object on which it was called.\n",
    "2.\tA method is able to operate on data that is contained within the class (remembering that an object is an instance of a class - the class is the definition, the object is an instance of that data).\n"
   ]
  },
  {
   "cell_type": "markdown",
   "metadata": {},
   "source": [
    "## Question 4:\n",
    "Define the following terms:\n",
    "1.  Class\n",
    "2.  Object\n",
    "3.  Attribute\n",
    "4. Behavior\n"
   ]
  },
  {
   "cell_type": "markdown",
   "metadata": {},
   "source": [
    "Class: In Object oriented programming  a class  is a blueprint for creating objects  (a particular data structure), providing initial values for state (member variables or attributes), and implementations of behaviour (member functions or methods).\n",
    "\n",
    "Objects: An object  is a component of a program that knows how to perform certain actions and how to interact with other elements of the program. Objects are the basic units of object-oriented programming.\n",
    "\n",
    "Attribute : These attributes belong to the class itself, you can call them class variables.\n",
    "\n",
    "Behavior : The behavior of an object is defined by its methods, which are the functions and subroutines defined within the object class. Without class methods, a class would simply be a structure\n"
   ]
  },
  {
   "cell_type": "markdown",
   "metadata": {},
   "source": [
    "## Question 5:\n",
    "Write a code in python in which create a class named it Car which \n",
    "have 5 attributes such like (model, color and name etc.) and 3 \n",
    "methods. And create 5 object instance from that class. "
   ]
  },
  {
   "cell_type": "code",
   "execution_count": 15,
   "metadata": {},
   "outputs": [],
   "source": [
    "class car:\n",
    "    def __init__(self,model,color,name,price,condition):\n",
    "        self.model=model\n",
    "        self.color=color\n",
    "        self.name=name\n",
    "        self.price=price \n",
    "        self.condition=condition\n",
    "        \n",
    "    def info(model,name):\n",
    "        return price\n",
    "    def dunction():\n",
    "        return \"AC car\"\n",
    "    def speciality():\n",
    "        return condition\n",
    "    \n",
    "    \n",
    "\n",
    "    \n",
    "obj1=car(\"2019\",\"red\",\"Yamaha\",780000,\"fair\")    \n",
    "obj2=car(\"2000\",\"red\",\"suzuki\",780000,\"fair\")    \n",
    "obj3=car(\"2016\",\"red\",\"Yamaha\",780000,\"not fair\")    \n",
    "obj4=car(\"2011\",\"red\",\"Yamaha\",780000,\"fair\")    \n",
    "obj5=car(\"1980\",\"red\",\"mitubishi\",780000,\"fair\")    \n"
   ]
  },
  {
   "cell_type": "code",
   "execution_count": 17,
   "metadata": {},
   "outputs": [
    {
     "data": {
      "text/plain": [
       "780000"
      ]
     },
     "execution_count": 17,
     "metadata": {},
     "output_type": "execute_result"
    }
   ],
   "source": [
    "obj1.price"
   ]
  },
  {
   "cell_type": "code",
   "execution_count": null,
   "metadata": {},
   "outputs": [],
   "source": []
  }
 ],
 "metadata": {
  "kernelspec": {
   "display_name": "Python 3",
   "language": "python",
   "name": "python3"
  },
  "language_info": {
   "codemirror_mode": {
    "name": "ipython",
    "version": 3
   },
   "file_extension": ".py",
   "mimetype": "text/x-python",
   "name": "python",
   "nbconvert_exporter": "python",
   "pygments_lexer": "ipython3",
   "version": "3.7.1"
  }
 },
 "nbformat": 4,
 "nbformat_minor": 2
}
