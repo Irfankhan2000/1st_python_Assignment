{
 "cells": [
  {
   "cell_type": "markdown",
   "metadata": {},
   "source": [
    "## 1.  Make a calculator using Python with addition , subtraction , multiplication , division and power."
   ]
  },
  {
   "cell_type": "code",
   "execution_count": 1,
   "metadata": {},
   "outputs": [
    {
     "name": "stdout",
     "output_type": "stream",
     "text": [
      "Enter the first number 45\n",
      "Enter the Second number 67\n",
      " plus :+  ,Minus : - ,Multiply * ,Division /\n",
      "Enter the operator you wand to select  +\n",
      "Sum of two numbers  112.0\n",
      "Enter the number for base number: 45\n",
      "Enter the power which you want to compute6\n",
      "The power of 45 is  8303765625\n"
     ]
    }
   ],
   "source": [
    "import numpy as np\n",
    "import pandas as pd\n",
    "\n",
    "print(\"Simple calculator\")\n",
    "a=float(input(\"Enter the first number \"))\n",
    "b=float(input(\"Enter the Second number \"))\n",
    "\n",
    "print(\" plus :+  ,Minus : - ,Multiply * ,Division /\")\n",
    "op=input(\"Enter the operator you wand to select  \")\n",
    "\n",
    "if op=='+':\n",
    "    print(\"Sum of two numbers \",a+b)\n",
    "elif op=='-':\n",
    "    print(\"Subtraction of two numbers \",a-b)\n",
    "elif op=='*':\n",
    "    print(\"Multiplication  of two numbers \",a*b)\n",
    "elif op=='/':\n",
    "    print(\"Division of two numbers \",a/b)\n",
    "    \n",
    "num=int(input(\"Enter the number for base number: \"))\n",
    "power=int(input(\"Enter the power which you want to compute : \"))\n",
    "print(f'The power of {num} is ',num**power)\n",
    "\n",
    "\n",
    "\n",
    "\n",
    "\n"
   ]
  },
  {
   "cell_type": "markdown",
   "metadata": {},
   "source": [
    "## 2.Write a program to check if there is any numeric value in list using for loop"
   ]
  },
  {
   "cell_type": "code",
   "execution_count": 7,
   "metadata": {},
   "outputs": [
    {
     "name": "stdout",
     "output_type": "stream",
     "text": [
      "there is numeric value\n"
     ]
    }
   ],
   "source": [
    "li=[1,2,3,4,'ty']\n",
    "for a in li:\n",
    "    if a>=0 & a<=0 :\n",
    "        print(\"there is numeric value\")\n",
    "        break\n",
    "    else:\n",
    "        print(\" all values are non numeric\")"
   ]
  },
  {
   "cell_type": "markdown",
   "metadata": {},
   "source": [
    "## 3.  Write a Python script to add a key to a dictionary"
   ]
  },
  {
   "cell_type": "code",
   "execution_count": 18,
   "metadata": {},
   "outputs": [
    {
     "name": "stdout",
     "output_type": "stream",
     "text": [
      "Enter the key number :5\n",
      "Enter value of key Respectively :may\n"
     ]
    },
    {
     "data": {
      "text/plain": [
       "{1: 'Jan', 2: 'Feb', 3: 'Mar', 5: 'may'}"
      ]
     },
     "execution_count": 18,
     "metadata": {},
     "output_type": "execute_result"
    }
   ],
   "source": [
    "dic_key={\n",
    "    1:'Jan',\n",
    "    2:'Feb',\n",
    "    3:'Mar'}\n",
    "\n",
    "key_num=int(input(\"Enter the key number :\"))\n",
    "val_=input(\"Enter value of key Respectively :\")\n",
    "\n",
    "dic_key.update({key_num:val_})\n",
    "dic_key\n",
    "\n",
    "\n",
    "    "
   ]
  },
  {
   "cell_type": "markdown",
   "metadata": {},
   "source": [
    "## 4.  Write a Python program to sum all the numeric items in a dictionary"
   ]
  },
  {
   "cell_type": "code",
   "execution_count": 26,
   "metadata": {},
   "outputs": [
    {
     "name": "stdout",
     "output_type": "stream",
     "text": [
      "sum of Keys : 10\n",
      "sum of values : 110\n"
     ]
    }
   ],
   "source": [
    "li_=[]\n",
    "li=[]\n",
    "def sum_list(items):\n",
    "    sum_numbers = 0\n",
    "    for x in items:\n",
    "        sum_numbers += x\n",
    "    return sum_numbers\n",
    "\n",
    "num_dict={1:10,2:20,3:30,4:50}\n",
    "for i,j in num_dict.items():\n",
    "    li.append(i)\n",
    "    li_.append(j)\n",
    "\n",
    "print(\"sum of Keys :\",sum_list(li))\n",
    "print(\"sum of values :\",sum_list(li_))"
   ]
  },
  {
   "cell_type": "markdown",
   "metadata": {},
   "source": [
    "## 5.  Write a program to identify duplicate values from list"
   ]
  },
  {
   "cell_type": "code",
   "execution_count": 29,
   "metadata": {},
   "outputs": [
    {
     "data": {
      "text/plain": [
       "[1, 5, 7]"
      ]
     },
     "execution_count": 29,
     "metadata": {},
     "output_type": "execute_result"
    }
   ],
   "source": [
    "#fuction\n",
    "def Repeat(x): \n",
    "    size = len(x) \n",
    "    repeated = [] \n",
    "    for i in range(size): \n",
    "        k = i + 1\n",
    "        for j in range(k, size): \n",
    "            if x[i] == x[j] and x[i] not in repeated: \n",
    "                repeated.append(x[i]) \n",
    "    return repeated \n",
    "\n",
    "m_list=[1,1,1,2,3,4,5,5,5,6,7,7]\n",
    "Repeat(m_list)"
   ]
  },
  {
   "cell_type": "markdown",
   "metadata": {},
   "source": [
    "## 6.  Write a Python script to check if a given key already exists in a dictionary"
   ]
  },
  {
   "cell_type": "code",
   "execution_count": 50,
   "metadata": {},
   "outputs": [
    {
     "name": "stdout",
     "output_type": "stream",
     "text": [
      "Enter the key : 2\n",
      "The key does not Exist\n",
      "The key Exist\n"
     ]
    }
   ],
   "source": [
    "num_dic={1:10,2:20,3:30,4:50}\n",
    "given=int(input(\"Enter the key : \"))\n",
    "num_dic.keys()\n",
    "for key in num_dic:\n",
    "    if key==given:\n",
    "        print(\"The key Exist\")\n",
    "        break\n",
    "    else:\n",
    "        print(\"The key does not Exist\")\n",
    "        \n",
    "        \n",
    "        \n",
    "            \n",
    "    \n",
    "\n",
    "        \n",
    "    \n",
    "\n",
    "\n"
   ]
  },
  {
   "cell_type": "code",
   "execution_count": 44,
   "metadata": {},
   "outputs": [],
   "source": []
  },
  {
   "cell_type": "code",
   "execution_count": null,
   "metadata": {},
   "outputs": [],
   "source": []
  }
 ],
 "metadata": {
  "kernelspec": {
   "display_name": "Python 3",
   "language": "python",
   "name": "python3"
  },
  "language_info": {
   "codemirror_mode": {
    "name": "ipython",
    "version": 3
   },
   "file_extension": ".py",
   "mimetype": "text/x-python",
   "name": "python",
   "nbconvert_exporter": "python",
   "pygments_lexer": "ipython3",
   "version": "3.7.1"
  }
 },
 "nbformat": 4,
 "nbformat_minor": 2
}
